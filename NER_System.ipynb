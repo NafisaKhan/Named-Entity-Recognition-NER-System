{
  "nbformat": 4,
  "nbformat_minor": 0,
  "metadata": {
    "colab": {
      "provenance": [],
      "authorship_tag": "ABX9TyPHq8ltNi69gJUJhUFvyjII",
      "include_colab_link": true
    },
    "kernelspec": {
      "name": "python3",
      "display_name": "Python 3"
    },
    "language_info": {
      "name": "python"
    }
  },
  "cells": [
    {
      "cell_type": "markdown",
      "metadata": {
        "id": "view-in-github",
        "colab_type": "text"
      },
      "source": [
        "<a href=\"https://colab.research.google.com/github/NafisaKhan/Named-Entity-Recognition-System/blob/main/NER_System.ipynb\" target=\"_parent\"><img src=\"https://colab.research.google.com/assets/colab-badge.svg\" alt=\"Open In Colab\"/></a>"
      ]
    },
    {
      "cell_type": "code",
      "source": [
        "import re\n",
        "#Function For NER System\n",
        "def ner(text):\n",
        "    #Defining the patterns (BD phone,Alphanumeric account,Phone service types)\n",
        "    patterns={'phone_numbers': r'\\b(01[3-9]\\d{8})\\b',\n",
        "              'account_numbers': r'\\b[A-Za-z0-9]{5,12}\\b',\n",
        "              'service_types': r'\\b(prepaid|postpaid|internet)\\b'\n",
        "              }\n",
        "\n",
        "    #Finding entities for each pattern\n",
        "    extract_entities={}\n",
        "    for entity, pattern in patterns.items():\n",
        "        matches=[(match.group(), match.start()) for match in re.finditer(pattern, text, re.IGNORECASE)]\n",
        "        extract_entities[entity]=matches\n",
        "    return extract_entities\n",
        "\n",
        "def test_ner():\n",
        "    #User input\n",
        "    s_input=input(\"Enter a string of text for NER: \")\n",
        "    output=ner(s_input)\n",
        "    print(\"\\nOutput:\")\n",
        "    print(output)\n",
        "\n",
        "test_ner()\n",
        "\n",
        "\n",
        "#demo inputs\n",
        "#text1 = \"আমার ফোন নাম্বার 01712345678 এবং আমার account number হলো ACC123456\"\n",
        "#text2 = \"I want to switch my prepaid connection to postpaid. My phone number is 01898765432.\"\n",
        "#text3 = \"Amr internet package ta upgrade korte chai. Account number: XYZ789012\""
      ],
      "metadata": {
        "colab": {
          "base_uri": "https://localhost:8080/"
        },
        "id": "848s9MdBY6WQ",
        "outputId": "eafb6f36-d1fb-4fa7-95b7-8cf31dac0a9d"
      },
      "execution_count": 1,
      "outputs": [
        {
          "output_type": "stream",
          "name": "stdout",
          "text": [
            "Enter a string of text for NER: Amr internet package ta upgrade korte chai. Account number: XYZ789012\n",
            "\n",
            "Output:\n",
            "{'phone_numbers': [], 'account_numbers': [('internet', 4), ('package', 13), ('upgrade', 24), ('korte', 32), ('Account', 44), ('number', 52), ('XYZ789012', 60)], 'service_types': [('internet', 4)]}\n"
          ]
        }
      ]
    }
  ]
}